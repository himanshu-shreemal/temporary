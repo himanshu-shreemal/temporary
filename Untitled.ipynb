{
 "cells": [
  {
   "cell_type": "code",
   "execution_count": 9,
   "id": "c9a174c0-cca6-44c2-bb64-e1905804ab8b",
   "metadata": {},
   "outputs": [
    {
     "name": "stdout",
     "output_type": "stream",
     "text": [
      "import done\n"
     ]
    }
   ],
   "source": [
    "from pymilvus import Collection, FieldSchema, DataType, CollectionSchema, connections\n",
    "from sklearn.feature_extraction.text import TfidfVectorizer\n",
    "from sklearn.metrics.pairwise import cosine_similarity\n",
    "import nltk\n",
    "from nltk.tokenize import word_tokenize\n",
    "from milvus import default_server\n",
    "from pymilvus import connections, utility\n",
    "import milvus\n",
    "from milvus import default_server\n",
    "from pymilvus import (\n",
    "    connections,\n",
    "    utility,\n",
    "    FieldSchema,\n",
    "    CollectionSchema,\n",
    "    DataType,\n",
    "    Collection,\n",
    ")\n",
    "print(\"import done\")\n",
    "\n",
    "\n",
    "\n"
   ]
  },
  {
   "cell_type": "code",
   "execution_count": 10,
   "id": "4936d910-7155-4449-8007-3761cae06466",
   "metadata": {},
   "outputs": [
    {
     "name": "stdout",
     "output_type": "stream",
     "text": [
      "starting the server\n",
      "started the server\n",
      "v2.2.14-lite\n",
      "19530\n"
     ]
    }
   ],
   "source": [
    "# (OPTIONAL) Set if you want store all related data to specific location\n",
    "# Default location:\n",
    "#   %APPDATA%/milvus-io/milvus-server on windows\n",
    "#   ~/.milvus-io/milvus-server on linux\n",
    "# default_server.set_base_dir('milvus_data')\n",
    "\n",
    "# (OPTIONAL) if you want cleanup previous data\n",
    "# default_server.cleanup()\n",
    "print(\"starting the server\")\n",
    "# Start your milvus server\n",
    "default_server.start()\n",
    "\n",
    "print(\"started the server\")\n",
    "# Now you could connect with localhost and the given port\n",
    "# Port is defined by default_server.listen_port\n",
    "connections.connect(host='127.0.0.1', port=default_server.listen_port)\n",
    "\n",
    "# Check if the server is ready.\n",
    "print(utility.get_server_version())\n",
    "print(default_server.listen_port)"
   ]
  },
  {
   "cell_type": "code",
   "execution_count": 33,
   "id": "f3d46292-f83f-4b1e-942e-ab1c19ad5f17",
   "metadata": {},
   "outputs": [
    {
     "name": "stdout",
     "output_type": "stream",
     "text": [
      "define the fields [{'name': 'pk', 'description': '', 'type': <DataType.INT64: 5>, 'is_primary': True, 'auto_id': False}, {'name': 'tfidf', 'description': '', 'type': <DataType.FLOAT_VECTOR: 101>, 'params': {'dim': 5}}]\n",
      "{'auto_id': False, 'description': 'my_collection is the first collection', 'fields': [{'name': 'pk', 'description': '', 'type': <DataType.INT64: 5>, 'is_primary': True, 'auto_id': False}, {'name': 'tfidf', 'description': '', 'type': <DataType.FLOAT_VECTOR: 101>, 'params': {'dim': 5}}]}\n",
      "created the collection <Collection>:\n",
      "-------------\n",
      "<name>: my_collection\n",
      "<description>: my_collection is the first collection\n",
      "<schema>: {'auto_id': False, 'description': 'my_collection is the first collection', 'fields': [{'name': 'pk', 'description': '', 'type': <DataType.INT64: 5>, 'is_primary': True, 'auto_id': False}, {'name': 'tfidf', 'description': '', 'type': <DataType.FLOAT_VECTOR: 101>, 'params': {'dim': 5}}]}\n",
      "\n"
     ]
    }
   ],
   "source": [
    "# Define a vector field\n",
    "fields = [\n",
    "    FieldSchema(name=\"pk\", dtype=DataType.INT64, is_primary=True, auto_id=False),\n",
    "    FieldSchema(name=\"tfidf\", dtype=DataType.FLOAT_VECTOR, dim=5)\n",
    "]\n",
    "print(\"define the fields\", fields)\n",
    "\n",
    "schema = CollectionSchema(fields, \"my_collection is the first collection\")\n",
    "print(schema)\n",
    "my_collection = Collection(\"my_collection\", schema)\n",
    "print(\"created the collection\", my_collection)"
   ]
  },
  {
   "cell_type": "code",
   "execution_count": 42,
   "id": "85427848-7b06-45c9-b4ef-b0004a75f744",
   "metadata": {},
   "outputs": [
    {
     "data": {
      "text/plain": [
       "Status(code=0, message=)"
      ]
     },
     "execution_count": 42,
     "metadata": {},
     "output_type": "execute_result"
    }
   ],
   "source": [
    "index_params = {\n",
    "  \"metric_type\":\"L2\",\n",
    "  \"index_type\":\"IVF_FLAT\",\n",
    "  \"params\":{\"nlist\":1024}\n",
    "}\n",
    "my_collection.create_index(\n",
    "  field_name=\"tfidf\", \n",
    "  index_params=index_params,\n",
    "  index_name=\"tfidf_index\")"
   ]
  },
  {
   "cell_type": "code",
   "execution_count": 35,
   "id": "9abf875c-0f87-4f68-b4ea-d9defa0598fa",
   "metadata": {},
   "outputs": [
    {
     "name": "stdout",
     "output_type": "stream",
     "text": [
      "documents are ready\n",
      "vectorizer initiated TfidfVectorizer()\n",
      "tfidf_matrix prepared   (0, 0)\t0.4472135954999579\n",
      "  (0, 1)\t0.4472135954999579\n",
      "  (0, 3)\t0.4472135954999579\n",
      "  (0, 2)\t0.4472135954999579\n",
      "  (0, 4)\t0.4472135954999579\n",
      "prepare the list for vector: vectors_to_insert\n",
      "vectors_to_insert : [[0.4472135954999579, 0.4472135954999579, 0.4472135954999579, 0.4472135954999579, 0.4472135954999579]]\n",
      "entites are ready [[0], [[0.4472135954999579, 0.4472135954999579, 0.4472135954999579, 0.4472135954999579, 0.4472135954999579]]]\n",
      "inserted the data\n",
      "flushed the space\n",
      "query document ready\n",
      "query_vector prepared [[0.4472136 0.4472136 0.4472136 0.4472136 0.4472136]]\n"
     ]
    }
   ],
   "source": [
    "# Example documents\n",
    "documents = [\n",
    "    \"This is the first document.\"\n",
    "]\n",
    "print(\"documents are ready\")\n",
    "# Tokenize and vectorize using TF-IDF\n",
    "vectorizer = TfidfVectorizer()\n",
    "print(\"vectorizer initiated\", vectorizer)\n",
    "tfidf_matrix = vectorizer.fit_transform(documents)\n",
    "print(\"tfidf_matrix prepared\" , tfidf_matrix)\n",
    "\n",
    "print(\"prepare the list for vector: vectors_to_insert\")\n",
    "# Ingest vectors into Milvus\n",
    "vectors_to_insert = tfidf_matrix.toarray().tolist()\n",
    "print(\"vectors_to_insert :\" ,vectors_to_insert)\n",
    "\n",
    "entities = [\n",
    "    [i for i in range(1)],  # field pk\n",
    "    [i for i in vectors_to_insert], # field embeddings\n",
    "]\n",
    "\n",
    "print(\"entites are ready\", entities)\n",
    "\n",
    "insert_result = my_collection.insert(entities)\n",
    "print(\"inserted the data\")\n",
    "my_collection.flush()\n",
    "print(\"flushed the space\")\n",
    "\n",
    "# Define a query document\n",
    "query_document = [\"This is the first document\"]\n",
    "print(\"query document ready\")\n",
    "\n",
    "# Tokenize and vectorize the query\n",
    "#query_vector = vectorizer.transform([query_document]).toarray()\n",
    "query_vector = vectorizer.fit_transform(query_document).toarray()\n",
    "print(\"query_vector prepared\" , query_vector)"
   ]
  },
  {
   "cell_type": "code",
   "execution_count": 50,
   "id": "1c026fdb-af86-4736-8bd7-6c38c06b4ab5",
   "metadata": {},
   "outputs": [
    {
     "name": "stdout",
     "output_type": "stream",
     "text": [
      "query document ready\n",
      "query_vector prepared [[0.4472136 0.4472136 0.4472136 0.4472136 0.4472136]]\n"
     ]
    }
   ],
   "source": [
    "# Define a query document\n",
    "query_document = \"This is the first document\"\n",
    "print(\"query document ready\")\n",
    "\n",
    "# Tokenize and vectorize the query\n",
    "#query_vector = vectorizer.transform([query_document]).toarray()\n",
    "query_vector = vectorizer.transform([query_document]).toarray()\n",
    "print(\"query_vector prepared\" , query_vector)"
   ]
  },
  {
   "cell_type": "code",
   "execution_count": 53,
   "id": "019a1411-0658-4c74-b1d6-4a8863279914",
   "metadata": {},
   "outputs": [
    {
     "name": "stdout",
     "output_type": "stream",
     "text": [
      "search result  ['[\"id: 0, distance: 0.0, entity: {\\'tfidf\\': [0.4472135901451111, 0.4472135901451111, 0.4472135901451111, 0.4472135901451111, 0.4472135901451111]}\"]']\n"
     ]
    }
   ],
   "source": [
    "search_params = {\n",
    "    \"metric_type\": \"L2\",\n",
    "    \"params\": {\"nprobe\": 10},\n",
    "}\n",
    "# Search for similar documents in Milvus\n",
    "#search_results = my_collection.search(data=query_vector.tolist(), top_k=5)\n",
    "#search_results = my_collection.search(query_vector, \"tfidf\", search_params, limit=3)\n",
    "collection = Collection(\"my_collection\")      # Get an existing collection.\n",
    "collection.load()\n",
    "search_results = collection.search(\n",
    "    data=query_vector, \n",
    "    anns_field=\"tfidf\", \n",
    "    # the sum of `offset` in `param` and `limit` \n",
    "    # should be less than 16384.\n",
    "    param=search_params,\n",
    "    limit=10,\n",
    "    expr=None,\n",
    "    # set the names of the fields you want to \n",
    "    # retrieve from the search result.\n",
    "    output_fields=['tfidf'],\n",
    "    consistency_level=\"Strong\"\n",
    ")\n",
    "\n",
    "\n",
    "print(\"search result \", search_results)\n"
   ]
  },
  {
   "cell_type": "code",
   "execution_count": 57,
   "id": "e1161cf0-5c2e-4a01-a191-1d9a29117817",
   "metadata": {},
   "outputs": [
    {
     "name": "stdout",
     "output_type": "stream",
     "text": [
      "similar_document_ids result  [0]\n",
      "Query Document: This is the first document\n",
      "Most Similar Documents:\n",
      "This is the first document.\n"
     ]
    }
   ],
   "source": [
    "similar_document_ids = search_results[0].ids\n",
    "# get the IDs of all returned hits\n",
    "print(\"similar_document_ids result \", similar_document_ids)\n",
    "\n",
    "# Retrieve similar documents\n",
    "similar_documents = [documents[i] for i in similar_document_ids]\n",
    "\n",
    "print(f\"Query Document: {query_document}\")\n",
    "print(\"Most Similar Documents:\")\n",
    "for doc in similar_documents:\n",
    "    print(doc)"
   ]
  },
  {
   "cell_type": "code",
   "execution_count": 32,
   "id": "3ae2e82a-5c72-4d55-89d4-d2040e9e0161",
   "metadata": {},
   "outputs": [
    {
     "name": "stdout",
     "output_type": "stream",
     "text": [
      "droppend the collection 1 \n"
     ]
    }
   ],
   "source": [
    "utility.drop_collection(\"my_collection\")\n",
    "print(\"droppend the collection 1 \" )"
   ]
  },
  {
   "cell_type": "code",
   "execution_count": null,
   "id": "bf46bde1-5c10-4f39-acf4-c6fe857050b0",
   "metadata": {},
   "outputs": [],
   "source": [
    "# Stop your milvus server\n",
    "default_server.stop()\n",
    "print(\"stopped server\")"
   ]
  }
 ],
 "metadata": {
  "kernelspec": {
   "display_name": "Python 3 (ipykernel)",
   "language": "python",
   "name": "python3"
  },
  "language_info": {
   "codemirror_mode": {
    "name": "ipython",
    "version": 3
   },
   "file_extension": ".py",
   "mimetype": "text/x-python",
   "name": "python",
   "nbconvert_exporter": "python",
   "pygments_lexer": "ipython3",
   "version": "3.9.0"
  }
 },
 "nbformat": 4,
 "nbformat_minor": 5
}
